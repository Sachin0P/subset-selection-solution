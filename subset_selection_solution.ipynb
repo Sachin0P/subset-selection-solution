{
  "nbformat": 4,
  "nbformat_minor": 0,
  "metadata": {
    "colab": {
      "provenance": [],
      "authorship_tag": "ABX9TyOMYTjWkQxM/cr+UAFdeFNr",
      "include_colab_link": true
    },
    "kernelspec": {
      "name": "python3",
      "display_name": "Python 3"
    },
    "language_info": {
      "name": "python"
    }
  },
  "cells": [
    {
      "cell_type": "markdown",
      "metadata": {
        "id": "view-in-github",
        "colab_type": "text"
      },
      "source": [
        "<a href=\"https://colab.research.google.com/github/Sachin0P/subset-selection-solution/blob/main/subset_selection_solution.ipynb\" target=\"_parent\"><img src=\"https://colab.research.google.com/assets/colab-badge.svg\" alt=\"Open In Colab\"/></a>"
      ]
    },
    {
      "cell_type": "markdown",
      "source": [
        "1. Problem Statement:\n",
        "\n",
        "    Find all the subsets from a set of numbers whose sum is zero.\n",
        "    Constraint: Subset size must be 5\n",
        "    Set={-12, -3, -6, 7, 2, -2, 6, 3, 9, -7, -5, -8, 1, 11, -9, -4}\n",
        "\n"
      ],
      "metadata": {
        "id": "-PLpmvno42eI"
      }
    },
    {
      "cell_type": "code",
      "execution_count": 68,
      "metadata": {
        "colab": {
          "base_uri": "https://localhost:8080/"
        },
        "id": "S5RR130g4qeJ",
        "outputId": "680c5e18-5ea3-4d41-b18c-d655b4cac564"
      },
      "outputs": [
        {
          "output_type": "stream",
          "name": "stdout",
          "text": [
            "{1, 7, 9, -12, -5}\n",
            "{2, 11, -7, -4, -2}\n",
            "{2, 6, 9, -12, -5}\n",
            "{1, 3, 9, -9, -4}\n"
          ]
        }
      ],
      "source": [
        "import random as r\n",
        "L=[-12,-3,-6,7,2,-2,6,3,9,-7,-5,-8,1,11,-9,-4]\n",
        "for i in range(1,101):\n",
        "  A=r.sample(L,5)\n",
        "  a=0\n",
        "  for i in A:\n",
        "    a=a+i\n",
        "  if a==0:\n",
        "    print(set(A))"
      ]
    },
    {
      "cell_type": "markdown",
      "source": [
        "2. Problem Statement:\n",
        "\n",
        "    Find all the subsets from a set of numbers whose sum is zero.\n",
        "    Constraint: Subset size must be 3 to 6 only\n",
        "    Set={-12, -3, -6, 7, 2, -2, 6, 3, 9, -7, -5, -8, 1, 11, -9, -4}\n"
      ],
      "metadata": {
        "id": "Cxdlavs17M1w"
      }
    },
    {
      "cell_type": "code",
      "source": [
        "import random as r\n",
        "L=[-12,-3,-6,7,2,-2,6,3,9,-7,-5,-8,1,11,-9,-4]\n",
        "for i in range(1,101):\n",
        "  A=r.sample(L,3)\n",
        "  a=0\n",
        "  for i in A:\n",
        "    a=a+i\n",
        "  if a==0:\n",
        "    print(set(A))\n",
        "  B=r.sample(L,4)\n",
        "  b=0\n",
        "  for i in B:\n",
        "    b=b+i\n",
        "  if b==0:\n",
        "    print(set(B))\n",
        "  C=r.sample(L,5)\n",
        "  c=0\n",
        "  for i in B:\n",
        "    c=c+i\n",
        "  if c==0:\n",
        "    print(set(B))\n",
        "  D=r.sample(L,6)\n",
        "  d=0\n",
        "  for i in D:\n",
        "    d=d+i\n",
        "  if d==0:\n",
        "    print(set(D))\n",
        "\n",
        ""
      ],
      "metadata": {
        "colab": {
          "base_uri": "https://localhost:8080/"
        },
        "id": "SS895Idd7RPG",
        "outputId": "3aeb298d-eefd-4c99-e815-ff264ad27626"
      },
      "execution_count": 67,
      "outputs": [
        {
          "output_type": "stream",
          "name": "stdout",
          "text": [
            "{-7, -6, 6, 7}\n",
            "{-7, -6, 6, 7}\n",
            "{9, -5, -4}\n",
            "{-8, 9, 1, -2}\n",
            "{-8, 9, 1, -2}\n",
            "{1, 11, -3, -9}\n",
            "{1, 11, -3, -9}\n",
            "{7, 11, -7, -5, -4, -2}\n",
            "{2, 3, -5}\n",
            "{-4, -2, 6}\n",
            "{-6, 11, -12, 7}\n",
            "{-6, 11, -12, 7}\n",
            "{-6, 2, 6, -2}\n",
            "{-6, 2, 6, -2}\n"
          ]
        }
      ]
    }
  ]
}